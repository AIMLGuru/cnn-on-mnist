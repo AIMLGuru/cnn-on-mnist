{
  "nbformat": 4,
  "nbformat_minor": 0,
  "metadata": {
    "colab": {
      "name": "Assignment CNN_MNIST.ipynb",
      "provenance": [],
      "collapsed_sections": []
    },
    "kernelspec": {
      "name": "python3",
      "display_name": "Python 3"
    },
    "language_info": {
      "name": "python"
    },
    "accelerator": "GPU",
    "gpuClass": "standard"
  },
  "cells": [
    {
      "cell_type": "code",
      "source": [
        "!pip install visualkeras"
      ],
      "metadata": {
        "colab": {
          "base_uri": "https://localhost:8080/",
          "height": 0
        },
        "id": "GluoS923KGab",
        "outputId": "c4b7cfac-82a8-46d4-ae4e-b78b6b579aeb"
      },
      "execution_count": 17,
      "outputs": [
        {
          "output_type": "stream",
          "name": "stdout",
          "text": [
            "Looking in indexes: https://pypi.org/simple, https://us-python.pkg.dev/colab-wheels/public/simple/\n",
            "Requirement already satisfied: visualkeras in /usr/local/lib/python3.7/dist-packages (0.0.2)\n",
            "Requirement already satisfied: pillow>=6.2.0 in /usr/local/lib/python3.7/dist-packages (from visualkeras) (7.1.2)\n",
            "Requirement already satisfied: aggdraw>=1.3.11 in /usr/local/lib/python3.7/dist-packages (from visualkeras) (1.3.15)\n",
            "Requirement already satisfied: numpy>=1.18.1 in /usr/local/lib/python3.7/dist-packages (from visualkeras) (1.21.6)\n"
          ]
        }
      ]
    },
    {
      "cell_type": "code",
      "execution_count": 18,
      "metadata": {
        "id": "NmsquFYC01e0"
      },
      "outputs": [],
      "source": [
        "#from __future__ import print_function\n",
        "import keras\n",
        "import tensorflow as tf\n",
        "import keras\n",
        "from keras.datasets import mnist\n",
        "from keras.models import Sequential\n",
        "from keras.layers import Dense, Dropout, Flatten\n",
        "from keras.layers import Conv2D, MaxPooling2D\n",
        "from keras import backend as K\n",
        "from keras import utils\n",
        "from tensorflow.keras.optimizers import Adam\n",
        "from tensorflow.keras.layers import BatchNormalization\n",
        "import visualkeras\n"
      ]
    },
    {
      "cell_type": "code",
      "source": [
        "%matplotlib notebook\n",
        "%matplotlib inline\n",
        "import matplotlib.pyplot as plt\n",
        "def plt_dynamic(x, vy, ty, ax, color=['b']):\n",
        "    ax.plot(x, vy, 'b', label=\"Validation Loss\")\n",
        "    ax.plot(x, ty, 'r', label=\"Train Loss\")\n",
        "    plt.legend()\n",
        "    plt.grid()\n",
        "    fig.canvas.draw()"
      ],
      "metadata": {
        "id": "MQo_i-B94TBd"
      },
      "execution_count": 19,
      "outputs": []
    },
    {
      "cell_type": "code",
      "source": [
        "# the data, split between train and test sets\n",
        "(x_train, y_train), (x_test, y_test) = mnist.load_data()\n",
        "\n",
        "# input image dimensions\n",
        "img_rows, img_cols = 28, 28\n",
        "\n",
        "if K.image_data_format() == 'channels_first':\n",
        "    x_train = x_train.reshape(x_train.shape[0], 1, img_rows, img_cols)\n",
        "    x_test = x_test.reshape(x_test.shape[0], 1, img_rows, img_cols)\n",
        "    input_shape = (1, img_rows, img_cols)\n",
        "else:\n",
        "    x_train = x_train.reshape(x_train.shape[0], img_rows, img_cols, 1)\n",
        "    x_test = x_test.reshape(x_test.shape[0], img_rows, img_cols, 1)\n",
        "    input_shape = (img_rows, img_cols, 1)"
      ],
      "metadata": {
        "id": "YxLkB-Hw2Yvf"
      },
      "execution_count": 20,
      "outputs": []
    },
    {
      "cell_type": "code",
      "source": [
        "x_train = x_train.astype('float32')\n",
        "x_test = x_test.astype('float32')\n",
        "x_train /= 255\n",
        "x_test /= 255\n",
        "print('x_train shape:', x_train.shape)\n",
        "print(x_train.shape[0], 'train samples')\n",
        "print(x_test.shape[0], 'test samples')\n"
      ],
      "metadata": {
        "colab": {
          "base_uri": "https://localhost:8080/",
          "height": 0
        },
        "id": "_-YyBQ-90432",
        "outputId": "68f672c4-6875-47e4-c314-82a941f41d18"
      },
      "execution_count": 21,
      "outputs": [
        {
          "output_type": "stream",
          "name": "stdout",
          "text": [
            "x_train shape: (60000, 28, 28, 1)\n",
            "60000 train samples\n",
            "10000 test samples\n"
          ]
        }
      ]
    },
    {
      "cell_type": "code",
      "source": [
        "batch_size = 128\n",
        "num_classes = 10\n",
        "epochs = 25"
      ],
      "metadata": {
        "id": "r_vi2EFR3Fo9"
      },
      "execution_count": 22,
      "outputs": []
    },
    {
      "cell_type": "code",
      "source": [
        "# convert class vectors to binary class matrices\n",
        "y_train = tf.keras.utils.to_categorical(y_train, num_classes)\n",
        "y_test = tf.keras.utils.to_categorical(y_test, num_classes)"
      ],
      "metadata": {
        "id": "GKLolemY036P"
      },
      "execution_count": 23,
      "outputs": []
    },
    {
      "cell_type": "markdown",
      "source": [
        "#1. ConvNet with 3 hidden layers"
      ],
      "metadata": {
        "id": "-2TSUZIn5APT"
      }
    },
    {
      "cell_type": "code",
      "source": [
        "model1 = Sequential()\n",
        "\n",
        "model1.add(Conv2D(32, kernel_size=(3,3), activation='relu', input_shape=input_shape))\n",
        "model1.add(Conv2D(32, kernel_size=(3,3), activation='relu', padding=\"same\"))\n",
        "model1.add(MaxPooling2D(pool_size=(2,2), strides=(2,2), padding=\"same\" ))\n",
        "#model1.add(BatchNormalization())\n",
        "#model1.add(Dropout(rate=1))\n",
        "\n",
        "model1.add(Conv2D(64, kernel_size=(3,3), activation='relu', padding=\"same\"))\n",
        "model1.add(Conv2D(64, kernel_size=(3,3), activation='relu', padding=\"same\"))\n",
        "model1.add(MaxPooling2D(pool_size=(2,2), strides=(2,2), padding=\"same\" ))\n",
        "model1.add(BatchNormalization())\n",
        "model1.add(Dropout(rate=0.7))\n",
        "\n",
        "model1.add(Conv2D(96, kernel_size=(3,3), activation='relu', padding=\"same\"))\n",
        "model1.add(Conv2D(96, kernel_size=(3,3), activation='relu', padding=\"same\"))\n",
        "model1.add(MaxPooling2D(pool_size=(2,2), strides=(2,2), padding=\"same\" ))\n",
        "model1.add(BatchNormalization())\n",
        "model1.add(Dropout(rate=0.7))\n",
        "\n",
        "\n",
        "model1.add(Flatten())\n",
        "model1.add(Dense(256, activation='relu'))\n",
        "model1.add(Dense(256, activation='relu'))\n",
        "#model1.add(Dropout(0.5))\n",
        "model1.add(Dense(num_classes, activation='softmax'))"
      ],
      "metadata": {
        "id": "J4OYJOiU3wH8"
      },
      "execution_count": 24,
      "outputs": []
    },
    {
      "cell_type": "code",
      "source": [
        "visualkeras.layered_view(model1, legend=True)"
      ],
      "metadata": {
        "colab": {
          "base_uri": "https://localhost:8080/",
          "height": 192
        },
        "id": "nTqPgsZ0JfpM",
        "outputId": "0e2ceeb1-ddd9-4420-aef1-21ff28f7ba40"
      },
      "execution_count": 25,
      "outputs": [
        {
          "output_type": "execute_result",
          "data": {
            "text/plain": [
              "<PIL.Image.Image image mode=RGBA size=686x175 at 0x7F854C7C12D0>"
            ],
            "image/png": "[encoded data removed]"
          },
          "metadata": {},
          "execution_count": 25
        }
      ]
    },
    {
      "cell_type": "code",
      "source": [
        "model1.compile(loss=keras.losses.categorical_crossentropy, optimizer=Adam(), metrics=['accuracy'])\n",
        "\n",
        "history = model1.fit(x_train, y_train, batch_size=batch_size, epochs=epochs, verbose=1, validation_data=(x_test, y_test))"
      ],
      "metadata": {
        "colab": {
          "base_uri": "https://localhost:8080/",
          "height": 0
        },
        "id": "eM22-3_M3wLE",
        "outputId": "27acb4fb-9f02-4cd4-e0a7-abccba1712a7"
      },
      "execution_count": 26,
      "outputs": [
        {
          "output_type": "stream",
          "name": "stdout",
          "text": [
            "Epoch 1/25\n",
            "469/469 [==============================] - 7s 14ms/step - loss: 0.3658 - accuracy: 0.8795 - val_loss: 0.1090 - val_accuracy: 0.9653\n",
            "Epoch 2/25\n",
            "469/469 [==============================] - 9s 18ms/step - loss: 0.0960 - accuracy: 0.9698 - val_loss: 0.0501 - val_accuracy: 0.9840\n",
            "Epoch 3/25\n",
            "469/469 [==============================] - 8s 16ms/step - loss: 0.0721 - accuracy: 0.9778 - val_loss: 0.0592 - val_accuracy: 0.9828\n",
            "Epoch 4/25\n",
            "469/469 [==============================] - 6s 12ms/step - loss: 0.0598 - accuracy: 0.9815 - val_loss: 0.0317 - val_accuracy: 0.9902\n",
            "Epoch 5/25\n",
            "469/469 [==============================] - 6s 13ms/step - loss: 0.0532 - accuracy: 0.9835 - val_loss: 0.0246 - val_accuracy: 0.9923\n",
            "Epoch 6/25\n",
            "469/469 [==============================] - 6s 13ms/step - loss: 0.0460 - accuracy: 0.9854 - val_loss: 0.0216 - val_accuracy: 0.9925\n",
            "Epoch 7/25\n",
            "469/469 [==============================] - 6s 12ms/step - loss: 0.0430 - accuracy: 0.9871 - val_loss: 0.0244 - val_accuracy: 0.9915\n",
            "Epoch 8/25\n",
            "469/469 [==============================] - 6s 13ms/step - loss: 0.0412 - accuracy: 0.9875 - val_loss: 0.0256 - val_accuracy: 0.9908\n",
            "Epoch 9/25\n",
            "469/469 [==============================] - 6s 12ms/step - loss: 0.0392 - accuracy: 0.9879 - val_loss: 0.0227 - val_accuracy: 0.9931\n",
            "Epoch 10/25\n",
            "469/469 [==============================] - 6s 13ms/step - loss: 0.0365 - accuracy: 0.9885 - val_loss: 0.0189 - val_accuracy: 0.9932\n",
            "Epoch 11/25\n",
            "469/469 [==============================] - 6s 13ms/step - loss: 0.0319 - accuracy: 0.9901 - val_loss: 0.0242 - val_accuracy: 0.9917\n",
            "Epoch 12/25\n",
            "469/469 [==============================] - 6s 12ms/step - loss: 0.0327 - accuracy: 0.9902 - val_loss: 0.0221 - val_accuracy: 0.9936\n",
            "Epoch 13/25\n",
            "469/469 [==============================] - 6s 12ms/step - loss: 0.0321 - accuracy: 0.9898 - val_loss: 0.0202 - val_accuracy: 0.9934\n",
            "Epoch 14/25\n",
            "469/469 [==============================] - 6s 12ms/step - loss: 0.0288 - accuracy: 0.9913 - val_loss: 0.0201 - val_accuracy: 0.9938\n",
            "Epoch 15/25\n",
            "469/469 [==============================] - 6s 12ms/step - loss: 0.0279 - accuracy: 0.9912 - val_loss: 0.0194 - val_accuracy: 0.9932\n",
            "Epoch 16/25\n",
            "469/469 [==============================] - 6s 13ms/step - loss: 0.0273 - accuracy: 0.9916 - val_loss: 0.0177 - val_accuracy: 0.9948\n",
            "Epoch 17/25\n",
            "469/469 [==============================] - 6s 13ms/step - loss: 0.0255 - accuracy: 0.9920 - val_loss: 0.0242 - val_accuracy: 0.9930\n",
            "Epoch 18/25\n",
            "469/469 [==============================] - 6s 13ms/step - loss: 0.0251 - accuracy: 0.9921 - val_loss: 0.0239 - val_accuracy: 0.9919\n",
            "Epoch 19/25\n",
            "469/469 [==============================] - 6s 13ms/step - loss: 0.0246 - accuracy: 0.9926 - val_loss: 0.0212 - val_accuracy: 0.9943\n",
            "Epoch 20/25\n",
            "469/469 [==============================] - 6s 13ms/step - loss: 0.0246 - accuracy: 0.9925 - val_loss: 0.0175 - val_accuracy: 0.9944\n",
            "Epoch 21/25\n",
            "469/469 [==============================] - 6s 12ms/step - loss: 0.0225 - accuracy: 0.9932 - val_loss: 0.0209 - val_accuracy: 0.9945\n",
            "Epoch 22/25\n",
            "469/469 [==============================] - 6s 12ms/step - loss: 0.0220 - accuracy: 0.9935 - val_loss: 0.0170 - val_accuracy: 0.9937\n",
            "Epoch 23/25\n",
            "469/469 [==============================] - 6s 13ms/step - loss: 0.0204 - accuracy: 0.9933 - val_loss: 0.0230 - val_accuracy: 0.9939\n",
            "Epoch 24/25\n",
            "469/469 [==============================] - 6s 12ms/step - loss: 0.0213 - accuracy: 0.9936 - val_loss: 0.0196 - val_accuracy: 0.9950\n",
            "Epoch 25/25\n",
            "469/469 [==============================] - 6s 13ms/step - loss: 0.0196 - accuracy: 0.9938 - val_loss: 0.0166 - val_accuracy: 0.9953\n"
          ]
        }
      ]
    },
    {
      "cell_type": "code",
      "source": [
        "score = model1.evaluate(x_test, y_test, verbose=0) \n",
        "print('Test score:', score[0]) \n",
        "print('Test accuracy:', score[1])\n",
        "\n",
        "fig,ax = plt.subplots(1,1)\n",
        "ax.set_xlabel('epoch') ; ax.set_ylabel('Categorical Crossentropy Loss')\n",
        "\n",
        "# list of epoch numbers\n",
        "x = list(range(1,epochs+1))\n",
        "\n",
        "vy = history.history['val_loss']\n",
        "ty = history.history['loss']\n",
        "plt_dynamic(x, vy, ty, ax)"
      ],
      "metadata": {
        "colab": {
          "base_uri": "https://localhost:8080/",
          "height": 314
        },
        "id": "UGEjEVvs3wPj",
        "outputId": "e1c68165-8165-40b1-f192-6df79602524c"
      },
      "execution_count": 27,
      "outputs": [
        {
          "output_type": "stream",
          "name": "stdout",
          "text": [
            "Test score: 0.016574297100305557\n",
            "Test accuracy: 0.9952999949455261\n"
          ]
        },
        {
          "output_type": "display_data",
          "data": {
            "text/plain": [
              "<Figure size 432x288 with 1 Axes>"
            ],
            "image/png": "[encoded data removed]"
          },
          "metadata": {
            "needs_background": "light"
          }
        }
      ]
    },
    {
      "cell_type": "code",
      "source": [
        ""
      ],
      "metadata": {
        "id": "vh49b9Y-3wW0"
      },
      "execution_count": 27,
      "outputs": []
    },
    {
      "cell_type": "markdown",
      "source": [
        "#2. ConvNet with 5 hidden layers"
      ],
      "metadata": {
        "id": "kjQxLB3b5Sar"
      }
    },
    {
      "cell_type": "code",
      "source": [
        "model2 = Sequential()\n",
        "\n",
        "model2.add(Conv2D(32, kernel_size=(3,3), activation='relu', input_shape=input_shape))\n",
        "model2.add(Conv2D(32, kernel_size=(3,3), activation='relu', padding=\"same\"))\n",
        "model2.add(MaxPooling2D(pool_size=(2,2), strides=(2,2), padding=\"same\" ))\n",
        "\n",
        "model2.add(Conv2D(64, kernel_size=(4,4), activation='relu', padding=\"same\"))\n",
        "model2.add(Conv2D(64, kernel_size=(4,4), activation='relu', padding=\"same\"))\n",
        "model2.add(MaxPooling2D(pool_size=(2,2), strides=(2,2), padding=\"same\" ))\n",
        "model2.add(BatchNormalization())\n",
        "model2.add(Dropout(rate=0.7))\n",
        "\n",
        "model2.add(Conv2D(96, kernel_size=(5,5), activation='relu', padding=\"same\"))\n",
        "model2.add(Conv2D(96, kernel_size=(5,5), activation='relu', padding=\"same\"))\n",
        "model2.add(MaxPooling2D(pool_size=(2,2), strides=(2,2), padding=\"same\" ))\n",
        "model2.add(BatchNormalization())\n",
        "model2.add(Dropout(rate=0.6))\n",
        "\n",
        "model2.add(Conv2D(128, kernel_size=(4,4), activation='relu', padding=\"same\"))\n",
        "model2.add(Conv2D(128, kernel_size=(4,4), activation='relu', padding=\"same\"))\n",
        "model2.add(MaxPooling2D(pool_size=(2,2), strides=(2,2), padding=\"same\" ))\n",
        "model2.add(BatchNormalization())\n",
        "model2.add(Dropout(rate=0.6))\n",
        "\n",
        "model2.add(Conv2D(160, kernel_size=(3,3), activation='relu', padding=\"same\"))\n",
        "model2.add(Conv2D(160, kernel_size=(3,3), activation='relu', padding=\"same\"))\n",
        "model2.add(MaxPooling2D(pool_size=(2,2), strides=(2,2), padding=\"same\" ))\n",
        "model2.add(BatchNormalization())\n",
        "model2.add(Dropout(rate=0.7))\n",
        "\n",
        "model2.add(Flatten())\n",
        "model2.add(Dense(512, activation='relu'))\n",
        "model2.add(Dense(512, activation='relu'))\n",
        "model2.add(Dense(num_classes, activation='softmax'))"
      ],
      "metadata": {
        "id": "5Zsrm21b3wb7"
      },
      "execution_count": 28,
      "outputs": []
    },
    {
      "cell_type": "code",
      "source": [
        "visualkeras.layered_view(model2, legend=True)"
      ],
      "metadata": {
        "colab": {
          "base_uri": "https://localhost:8080/",
          "height": 192
        },
        "id": "_Z6AwzB9K0xC",
        "outputId": "92a36853-1fe7-4c07-ac7c-d3f11019ddea"
      },
      "execution_count": 29,
      "outputs": [
        {
          "output_type": "execute_result",
          "data": {
            "text/plain": [
              "<PIL.Image.Image image mode=RGBA size=904x175 at 0x7F8576219D10>"
            ],
            "image/png": "[encoded data removed]"
          },
          "metadata": {},
          "execution_count": 29
        }
      ]
    },
    {
      "cell_type": "code",
      "source": [
        "model2.compile(loss=keras.losses.categorical_crossentropy, optimizer=Adam(), metrics=['accuracy'])\n",
        "\n",
        "history = model2.fit(x_train, y_train, batch_size=batch_size, epochs=epochs, verbose=1, validation_data=(x_test, y_test))"
      ],
      "metadata": {
        "colab": {
          "base_uri": "https://localhost:8080/",
          "height": 0
        },
        "id": "uwBw8Az-5e2k",
        "outputId": "79fcaa0e-1859-4ec2-92a8-af564e281a18"
      },
      "execution_count": 30,
      "outputs": [
        {
          "output_type": "stream",
          "name": "stdout",
          "text": [
            "Epoch 1/25\n",
            "469/469 [==============================] - 13s 25ms/step - loss: 0.8044 - accuracy: 0.7108 - val_loss: 0.2484 - val_accuracy: 0.9290\n",
            "Epoch 2/25\n",
            "469/469 [==============================] - 10s 21ms/step - loss: 0.1385 - accuracy: 0.9636 - val_loss: 0.0754 - val_accuracy: 0.9820\n",
            "Epoch 3/25\n",
            "469/469 [==============================] - 10s 21ms/step - loss: 0.0960 - accuracy: 0.9748 - val_loss: 0.0472 - val_accuracy: 0.9883\n",
            "Epoch 4/25\n",
            "469/469 [==============================] - 10s 21ms/step - loss: 0.0790 - accuracy: 0.9804 - val_loss: 0.0403 - val_accuracy: 0.9907\n",
            "Epoch 5/25\n",
            "469/469 [==============================] - 10s 21ms/step - loss: 0.0644 - accuracy: 0.9838 - val_loss: 0.0576 - val_accuracy: 0.9856\n",
            "Epoch 6/25\n",
            "469/469 [==============================] - 10s 20ms/step - loss: 0.0631 - accuracy: 0.9839 - val_loss: 0.0334 - val_accuracy: 0.9918\n",
            "Epoch 7/25\n",
            "469/469 [==============================] - 10s 21ms/step - loss: 0.0553 - accuracy: 0.9862 - val_loss: 0.0489 - val_accuracy: 0.9881\n",
            "Epoch 8/25\n",
            "469/469 [==============================] - 10s 21ms/step - loss: 0.0524 - accuracy: 0.9871 - val_loss: 0.0373 - val_accuracy: 0.9908\n",
            "Epoch 9/25\n",
            "469/469 [==============================] - 10s 21ms/step - loss: 0.0508 - accuracy: 0.9876 - val_loss: 0.0601 - val_accuracy: 0.9873\n",
            "Epoch 10/25\n",
            "469/469 [==============================] - 10s 21ms/step - loss: 0.0469 - accuracy: 0.9891 - val_loss: 0.0286 - val_accuracy: 0.9930\n",
            "Epoch 11/25\n",
            "469/469 [==============================] - 10s 21ms/step - loss: 0.0415 - accuracy: 0.9900 - val_loss: 0.0373 - val_accuracy: 0.9914\n",
            "Epoch 12/25\n",
            "469/469 [==============================] - 10s 21ms/step - loss: 0.0413 - accuracy: 0.9899 - val_loss: 0.0326 - val_accuracy: 0.9922\n",
            "Epoch 13/25\n",
            "469/469 [==============================] - 10s 20ms/step - loss: 0.0410 - accuracy: 0.9898 - val_loss: 0.0396 - val_accuracy: 0.9917\n",
            "Epoch 14/25\n",
            "469/469 [==============================] - 11s 24ms/step - loss: 0.0388 - accuracy: 0.9910 - val_loss: 0.0382 - val_accuracy: 0.9916\n",
            "Epoch 15/25\n",
            "469/469 [==============================] - 10s 21ms/step - loss: 0.0362 - accuracy: 0.9915 - val_loss: 0.0258 - val_accuracy: 0.9940\n",
            "Epoch 16/25\n",
            "469/469 [==============================] - 10s 21ms/step - loss: 0.0339 - accuracy: 0.9912 - val_loss: 0.0350 - val_accuracy: 0.9922\n",
            "Epoch 17/25\n",
            "469/469 [==============================] - 10s 21ms/step - loss: 0.0340 - accuracy: 0.9915 - val_loss: 0.0279 - val_accuracy: 0.9933\n",
            "Epoch 18/25\n",
            "469/469 [==============================] - 10s 21ms/step - loss: 0.0293 - accuracy: 0.9932 - val_loss: 0.0217 - val_accuracy: 0.9948\n",
            "Epoch 19/25\n",
            "469/469 [==============================] - 10s 21ms/step - loss: 0.0301 - accuracy: 0.9929 - val_loss: 0.0337 - val_accuracy: 0.9933\n",
            "Epoch 20/25\n",
            "469/469 [==============================] - 10s 21ms/step - loss: 0.0298 - accuracy: 0.9930 - val_loss: 0.0334 - val_accuracy: 0.9931\n",
            "Epoch 21/25\n",
            "469/469 [==============================] - 10s 21ms/step - loss: 0.0286 - accuracy: 0.9930 - val_loss: 0.0406 - val_accuracy: 0.9921\n",
            "Epoch 22/25\n",
            "469/469 [==============================] - 10s 21ms/step - loss: 0.0298 - accuracy: 0.9934 - val_loss: 0.0247 - val_accuracy: 0.9941\n",
            "Epoch 23/25\n",
            "469/469 [==============================] - 10s 21ms/step - loss: 0.0253 - accuracy: 0.9941 - val_loss: 0.0341 - val_accuracy: 0.9936\n",
            "Epoch 24/25\n",
            "469/469 [==============================] - 10s 21ms/step - loss: 0.0256 - accuracy: 0.9938 - val_loss: 0.0276 - val_accuracy: 0.9942\n",
            "Epoch 25/25\n",
            "469/469 [==============================] - 10s 21ms/step - loss: 0.0236 - accuracy: 0.9944 - val_loss: 0.0312 - val_accuracy: 0.9936\n"
          ]
        }
      ]
    },
    {
      "cell_type": "code",
      "source": [
        ""
      ],
      "metadata": {
        "id": "ZgYuLOWF5e5S"
      },
      "execution_count": 30,
      "outputs": []
    },
    {
      "cell_type": "code",
      "source": [
        "score = model2.evaluate(x_test, y_test, verbose=0) \n",
        "print('Test score:', score[0]) \n",
        "print('Test accuracy:', score[1])\n",
        "\n",
        "fig,ax = plt.subplots(1,1)\n",
        "ax.set_xlabel('epoch') ; ax.set_ylabel('Categorical Crossentropy Loss')\n",
        "\n",
        "# list of epoch numbers\n",
        "x = list(range(1,epochs+1))\n",
        "\n",
        "vy = history.history['val_loss']\n",
        "ty = history.history['loss']\n",
        "plt_dynamic(x, vy, ty, ax)"
      ],
      "metadata": {
        "colab": {
          "base_uri": "https://localhost:8080/",
          "height": 314
        },
        "id": "fv7RuoE-5e76",
        "outputId": "bce316e3-c4f1-43aa-9e64-e76af619427a"
      },
      "execution_count": 31,
      "outputs": [
        {
          "output_type": "stream",
          "name": "stdout",
          "text": [
            "Test score: 0.031214797869324684\n",
            "Test accuracy: 0.9936000108718872\n"
          ]
        },
        {
          "output_type": "display_data",
          "data": {
            "text/plain": [
              "<Figure size 432x288 with 1 Axes>"
            ],
            "image/png": "[encoded data removed]"
          },
          "metadata": {
            "needs_background": "light"
          }
        }
      ]
    },
    {
      "cell_type": "markdown",
      "source": [
        "#3. ConvNet with 7 hidden layers"
      ],
      "metadata": {
        "id": "L_IzMv_a5Xl7"
      }
    },
    {
      "cell_type": "code",
      "source": [
        "model3 = Sequential()\n",
        "\n",
        "model3.add(Conv2D(32, kernel_size=(3,3), activation='relu', input_shape=input_shape))\n",
        "model3.add(Conv2D(32, kernel_size=(3,3), activation='relu', padding=\"same\"))\n",
        "model3.add(MaxPooling2D(pool_size=(2,2), strides=(2,2), padding=\"same\" ))\n",
        "\n",
        "model3.add(Conv2D(64, kernel_size=(4,4), activation='relu', padding=\"same\"))\n",
        "model3.add(Conv2D(64, kernel_size=(4,4), activation='relu', padding=\"same\"))\n",
        "model3.add(MaxPooling2D(pool_size=(2,2), strides=(2,2), padding=\"same\" ))\n",
        "model3.add(BatchNormalization())\n",
        "model3.add(Dropout(rate=0.7))\n",
        "\n",
        "model3.add(Conv2D(96, kernel_size=(5,5), activation='relu', padding=\"same\"))\n",
        "model3.add(Conv2D(96, kernel_size=(5,5), activation='relu', padding=\"same\"))\n",
        "model3.add(MaxPooling2D(pool_size=(2,2), strides=(2,2), padding=\"same\" ))\n",
        "model3.add(BatchNormalization())\n",
        "model3.add(Dropout(rate=0.6))\n",
        "\n",
        "model3.add(Conv2D(128, kernel_size=(4,4), activation='relu', padding=\"same\"))\n",
        "model3.add(Conv2D(128, kernel_size=(3,3), activation='relu', padding=\"same\"))\n",
        "model3.add(MaxPooling2D(pool_size=(2,2), strides=(2,2), padding=\"same\" ))\n",
        "model3.add(BatchNormalization())\n",
        "model3.add(Dropout(rate=0.6))\n",
        "\n",
        "model3.add(Conv2D(160, kernel_size=(3,3), activation='relu', padding=\"same\"))\n",
        "model3.add(Conv2D(160, kernel_size=(3,3), activation='relu', padding=\"same\"))\n",
        "model3.add(MaxPooling2D(pool_size=(2,2), strides=(2,2), padding=\"same\" ))\n",
        "model3.add(BatchNormalization())\n",
        "model3.add(Dropout(rate=0.7))\n",
        "\n",
        "model3.add(Conv2D(192, kernel_size=(3,3), activation='relu', padding=\"same\"))\n",
        "model3.add(Conv2D(192, kernel_size=(3,3), activation='relu', padding=\"same\"))\n",
        "model3.add(MaxPooling2D(pool_size=(2,2), strides=(2,2), padding=\"same\" ))\n",
        "model3.add(BatchNormalization())\n",
        "model3.add(Dropout(rate=0.7))\n",
        "\n",
        "model3.add(Conv2D(224, kernel_size=(3,3), activation='relu', padding=\"same\"))\n",
        "model3.add(Conv2D(224, kernel_size=(3,3), activation='relu', padding=\"same\"))\n",
        "model3.add(MaxPooling2D(pool_size=(2,2), strides=(2,2), padding=\"same\" ))\n",
        "model3.add(BatchNormalization())\n",
        "model3.add(Dropout(rate=0.8))\n",
        "\n",
        "model3.add(Flatten())\n",
        "model3.add(Dense(512, activation='relu'))\n",
        "model3.add(Dense(512, activation='relu'))\n",
        "model3.add(Dense(num_classes, activation='softmax'))"
      ],
      "metadata": {
        "id": "_SDYVlB05fp6"
      },
      "execution_count": 35,
      "outputs": []
    },
    {
      "cell_type": "code",
      "source": [
        "visualkeras.layered_view(model3, legend=True)"
      ],
      "metadata": {
        "colab": {
          "base_uri": "https://localhost:8080/",
          "height": 146
        },
        "id": "shIJQ5c4K44S",
        "outputId": "ed53f46d-2001-44dd-b9e2-b242788916b4"
      },
      "execution_count": 33,
      "outputs": [
        {
          "output_type": "execute_result",
          "data": {
            "text/plain": [
              "<PIL.Image.Image image mode=RGBA size=1320x175 at 0x7F854C135750>"
            ],
            "image/png": "[encoded data removed]"
          },
          "metadata": {},
          "execution_count": 33
        }
      ]
    },
    {
      "cell_type": "code",
      "source": [
        "model3.compile(loss=keras.losses.categorical_crossentropy, optimizer=Adam(), metrics=['accuracy'])\n",
        "\n",
        "history = model3.fit(x_train, y_train, batch_size=batch_size, epochs=epochs, verbose=1, validation_data=(x_test, y_test))"
      ],
      "metadata": {
        "colab": {
          "base_uri": "https://localhost:8080/",
          "height": 0
        },
        "id": "H6bRwiJb5ftS",
        "outputId": "aab47e39-a269-43df-bce5-9772bca6dacb"
      },
      "execution_count": 37,
      "outputs": [
        {
          "output_type": "stream",
          "name": "stdout",
          "text": [
            "Epoch 1/25\n",
            "469/469 [==============================] - 12s 23ms/step - loss: 0.5626 - accuracy: 0.7876 - val_loss: 0.1371 - val_accuracy: 0.9716\n",
            "Epoch 2/25\n",
            "469/469 [==============================] - 11s 23ms/step - loss: 0.2164 - accuracy: 0.9510 - val_loss: 0.0995 - val_accuracy: 0.9818\n",
            "Epoch 3/25\n",
            "469/469 [==============================] - 11s 23ms/step - loss: 0.1514 - accuracy: 0.9682 - val_loss: 0.0627 - val_accuracy: 0.9890\n",
            "Epoch 4/25\n",
            "469/469 [==============================] - 10s 22ms/step - loss: 0.1246 - accuracy: 0.9745 - val_loss: 0.0692 - val_accuracy: 0.9872\n",
            "Epoch 5/25\n",
            "469/469 [==============================] - 10s 22ms/step - loss: 0.1151 - accuracy: 0.9762 - val_loss: 0.0593 - val_accuracy: 0.9895\n",
            "Epoch 6/25\n",
            "469/469 [==============================] - 10s 22ms/step - loss: 0.1008 - accuracy: 0.9794 - val_loss: 0.0683 - val_accuracy: 0.9878\n",
            "Epoch 7/25\n",
            "469/469 [==============================] - 10s 22ms/step - loss: 0.0959 - accuracy: 0.9809 - val_loss: 0.0678 - val_accuracy: 0.9875\n",
            "Epoch 8/25\n",
            "469/469 [==============================] - 11s 24ms/step - loss: 0.0842 - accuracy: 0.9833 - val_loss: 0.0442 - val_accuracy: 0.9920\n",
            "Epoch 9/25\n",
            "469/469 [==============================] - 10s 22ms/step - loss: 0.0755 - accuracy: 0.9859 - val_loss: 0.0425 - val_accuracy: 0.9927\n",
            "Epoch 10/25\n",
            "469/469 [==============================] - 11s 23ms/step - loss: 0.0766 - accuracy: 0.9862 - val_loss: 0.0452 - val_accuracy: 0.9920\n",
            "Epoch 11/25\n",
            "469/469 [==============================] - 11s 23ms/step - loss: 0.0771 - accuracy: 0.9853 - val_loss: 0.0402 - val_accuracy: 0.9925\n",
            "Epoch 12/25\n",
            "469/469 [==============================] - 11s 22ms/step - loss: 0.0738 - accuracy: 0.9861 - val_loss: 0.0719 - val_accuracy: 0.9884\n",
            "Epoch 13/25\n",
            "469/469 [==============================] - 11s 23ms/step - loss: 0.0692 - accuracy: 0.9871 - val_loss: 0.0559 - val_accuracy: 0.9901\n",
            "Epoch 14/25\n",
            "469/469 [==============================] - 11s 23ms/step - loss: 0.0665 - accuracy: 0.9873 - val_loss: 0.0416 - val_accuracy: 0.9929\n",
            "Epoch 15/25\n",
            "469/469 [==============================] - 11s 24ms/step - loss: 0.0612 - accuracy: 0.9884 - val_loss: 0.0477 - val_accuracy: 0.9924\n",
            "Epoch 16/25\n",
            "469/469 [==============================] - 11s 22ms/step - loss: 0.0621 - accuracy: 0.9886 - val_loss: 0.0389 - val_accuracy: 0.9930\n",
            "Epoch 17/25\n",
            "469/469 [==============================] - 10s 22ms/step - loss: 0.0543 - accuracy: 0.9900 - val_loss: 0.0438 - val_accuracy: 0.9923\n",
            "Epoch 18/25\n",
            "469/469 [==============================] - 11s 23ms/step - loss: 0.0549 - accuracy: 0.9902 - val_loss: 0.0379 - val_accuracy: 0.9938\n",
            "Epoch 19/25\n",
            "469/469 [==============================] - 11s 23ms/step - loss: 0.0558 - accuracy: 0.9896 - val_loss: 0.0322 - val_accuracy: 0.9934\n",
            "Epoch 20/25\n",
            "469/469 [==============================] - 10s 22ms/step - loss: 0.0545 - accuracy: 0.9902 - val_loss: 0.0301 - val_accuracy: 0.9944\n",
            "Epoch 21/25\n",
            "469/469 [==============================] - 11s 22ms/step - loss: 0.0507 - accuracy: 0.9908 - val_loss: 0.0385 - val_accuracy: 0.9937\n",
            "Epoch 22/25\n",
            "469/469 [==============================] - 11s 23ms/step - loss: 0.0502 - accuracy: 0.9910 - val_loss: 0.0326 - val_accuracy: 0.9942\n",
            "Epoch 23/25\n",
            "469/469 [==============================] - 11s 23ms/step - loss: 0.0528 - accuracy: 0.9902 - val_loss: 0.0378 - val_accuracy: 0.9935\n",
            "Epoch 24/25\n",
            "469/469 [==============================] - 11s 23ms/step - loss: 0.0476 - accuracy: 0.9912 - val_loss: 0.0340 - val_accuracy: 0.9941\n",
            "Epoch 25/25\n",
            "469/469 [==============================] - 11s 23ms/step - loss: 0.0487 - accuracy: 0.9915 - val_loss: 0.0411 - val_accuracy: 0.9929\n"
          ]
        }
      ]
    },
    {
      "cell_type": "code",
      "source": [
        "score = model3.evaluate(x_test, y_test, verbose=0) \n",
        "print('Test score:', score[0]) \n",
        "print('Test accuracy:', score[1])\n",
        "\n",
        "fig,ax = plt.subplots(1,1)\n",
        "ax.set_xlabel('epoch') ; ax.set_ylabel('Categorical Crossentropy Loss')\n",
        "\n",
        "# list of epoch numbers\n",
        "x = list(range(1,epochs+1))\n",
        "\n",
        "vy = history.history['val_loss']\n",
        "ty = history.history['loss']\n",
        "plt_dynamic(x, vy, ty, ax)"
      ],
      "metadata": {
        "colab": {
          "base_uri": "https://localhost:8080/",
          "height": 314
        },
        "id": "eXp3zg555fxi",
        "outputId": "66bb960b-f434-44fa-d7cf-a9b267f08770"
      },
      "execution_count": 38,
      "outputs": [
        {
          "output_type": "stream",
          "name": "stdout",
          "text": [
            "Test score: 0.041107553988695145\n",
            "Test accuracy: 0.992900013923645\n"
          ]
        },
        {
          "output_type": "display_data",
          "data": {
            "text/plain": [
              "<Figure size 432x288 with 1 Axes>"
            ],
            "image/png": "[encoded data removed]"
          },
          "metadata": {
            "needs_background": "light"
          }
        }
      ]
    },
    {
      "cell_type": "code",
      "source": [
        "from prettytable import PrettyTable\n",
        "x= PrettyTable()\n",
        "x.field_names=['ConvNet Architecture', 'epochs', 'Test accuracy']\n",
        "x.add_row(['3 layer', '25', '0.9953'])\n",
        "x.add_row(['5 layer', '25' ,'0.9936'])\n",
        "x.add_row(['7 layer', '25' ,'0.9929' ])\n",
        "\n",
        "print(x)"
      ],
      "metadata": {
        "colab": {
          "base_uri": "https://localhost:8080/",
          "height": 0
        },
        "id": "GHcc0iol5fz6",
        "outputId": "a55ddc9f-02f0-40b5-a392-314fa55ca7e8"
      },
      "execution_count": 40,
      "outputs": [
        {
          "output_type": "stream",
          "name": "stdout",
          "text": [
            "+----------------------+--------+---------------+\n",
            "| ConvNet Architecture | epochs | Test accuracy |\n",
            "+----------------------+--------+---------------+\n",
            "|       3 layer        |   25   |     0.9953    |\n",
            "|       5 layer        |   25   |     0.9936    |\n",
            "|       7 layer        |   25   |     0.9929    |\n",
            "+----------------------+--------+---------------+\n"
          ]
        }
      ]
    }
  ]
}